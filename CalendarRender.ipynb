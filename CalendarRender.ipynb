{
  "nbformat": 4,
  "nbformat_minor": 0,
  "metadata": {
    "colab": {
      "provenance": [],
      "authorship_tag": "ABX9TyPFRxjkKJMFtXRlC62ZpjjL",
      "include_colab_link": true
    },
    "kernelspec": {
      "name": "python3",
      "display_name": "Python 3"
    },
    "language_info": {
      "name": "python"
    }
  },
  "cells": [
    {
      "cell_type": "markdown",
      "metadata": {
        "id": "view-in-github",
        "colab_type": "text"
      },
      "source": [
        "<a href=\"https://colab.research.google.com/github/KChamroeun/Application/blob/main/CalendarRender.ipynb\" target=\"_parent\"><img src=\"https://colab.research.google.com/assets/colab-badge.svg\" alt=\"Open In Colab\"/></a>"
      ]
    },
    {
      "cell_type": "code",
      "execution_count": null,
      "metadata": {
        "colab": {
          "base_uri": "https://localhost:8080/"
        },
        "id": "KCNcud_9zzbu",
        "outputId": "b33ea48e-4e3c-4727-f977-d3042769bf9a"
      },
      "outputs": [
        {
          "output_type": "stream",
          "name": "stdout",
          "text": [
            "{'Jia': '甲 ឈើ+', 'Yi': '乙 ឈើ-', 'Bing': '丙 ភ្លើង+', 'Ding': '丁 ភ្លើង-', 'Wu': '戊 ដី+', 'Ji': '己 ដី-', 'Geng': '庚 មាស+', 'Xin': '辛 មាស-', 'Ren': '壬 ទឹក+', 'Gui': '癸 ទឹក-'}\n"
          ]
        }
      ],
      "source": [
        "\n",
        "heavenly_stem_characters = {\n",
        "    \"Jia\": \"甲 ឈើ+\",\n",
        "    \"Yi\": \"乙 ឈើ-\",\n",
        "    \"Bing\": \"丙 ភ្លើង+\",\n",
        "    \"Ding\": \"丁 ភ្លើង-\",\n",
        "    \"Wu\": \"戊 ដី+\",\n",
        "    \"Ji\": \"己 ដី-\",\n",
        "    \"Geng\": \"庚 មាស+\",\n",
        "    \"Xin\": \"辛 មាស-\",\n",
        "    \"Ren\": \"壬 ទឹក+\",\n",
        "    \"Gui\": \"癸 ទឹក-\"\n",
        "      }\n",
        "heavenly_stem_characters_for_year = {\n",
        "    0: \"庚 Geng មាស+\",\n",
        "    1: \"辛 Xin 庚 មាស-\",\n",
        "    2: \"壬 Ren ទឹក+\",\n",
        "    3: \"癸 Gui ទឹក-\",\n",
        "    4: \"甲 Jia ឈើ+\",\n",
        "    5: \"乙 Yi ឈើ-\",\n",
        "    6: \"丙 Bing ភ្លើង+\",\n",
        "    7: \"丁 Ding ភ្លើង-\",\n",
        "    8: \"戊 Wu ដី+\",\n",
        "    9: \"己 Ji ដី-\"\n",
        "}\n",
        "\n",
        "print(heavenly_stem_characters_for_year)\n",
        "\n",
        "print(heavenly_stem_characters)\n",
        "\n",
        "\n",
        "\n"
      ]
    },
    {
      "cell_type": "markdown",
      "source": [
        "Render Calendar based on Lichun and Winter solstice"
      ],
      "metadata": {
        "id": "N4uNFRQMAAcZ"
      }
    },
    {
      "cell_type": "code",
      "source": [
        "!pip install astronomy\n",
        "!pip install Astronomy"
      ],
      "metadata": {
        "colab": {
          "base_uri": "https://localhost:8080/"
        },
        "id": "r-5G4fGPAN5I",
        "outputId": "fd02216c-7fd1-4768-d1b1-baa925bf5b2f"
      },
      "execution_count": 5,
      "outputs": [
        {
          "output_type": "stream",
          "name": "stdout",
          "text": [
            "Requirement already satisfied: astronomy in /usr/local/lib/python3.11/dist-packages (0.0.1)\n",
            "Requirement already satisfied: Astronomy in /usr/local/lib/python3.11/dist-packages (0.0.1)\n"
          ]
        }
      ]
    },
    {
      "cell_type": "markdown",
      "source": [
        "Winter Solstic on 21 or 22nd using skyfield library"
      ],
      "metadata": {
        "id": "y8IgGLNQ_wCR"
      }
    },
    {
      "cell_type": "markdown",
      "source": [
        "| Library    | Accuracy   | Size / Setup   | Best for…                  |\n",
        "| ---------- | ---------- | -------------- | -------------------------- |\n",
        "| `astral`   | ±1 min     | tiny, no files | Quick calendar apps        |\n",
        "| `skyfield` | ±ms        | 6 MB kernel    | Precision, long time spans |\n",
        "| `pyephem`  | deprecated | —              | Use Skyfield instead       |\n"
      ],
      "metadata": {
        "id": "wzqjinBTJ2OG"
      }
    },
    {
      "cell_type": "markdown",
      "source": [],
      "metadata": {
        "id": "va2vemJxKmUu"
      }
    },
    {
      "cell_type": "markdown",
      "source": [
        "“Skyfield” is Python‑only — but you still have good options in Flutter / Dart\n",
        "\n",
        "\n",
        "| Approach                                                     | How it works                                                                                                                                           | Pros                                                                                    | Cons                                                                                          |\n",
        "| ------------------------------------------------------------ | ------------------------------------------------------------------------------------------------------------------------------------------------------ | --------------------------------------------------------------------------------------- | --------------------------------------------------------------------------------------------- |\n",
        "| **1 · Call a small Python micro‑service that runs Skyfield** | Your Flutter app makes HTTPS requests to a FastAPI / Flask / Cloud Function that returns the solstice day (21 or 22 Dec) for a given year.             | • Zero astronomical math to port<br>• Always up‑to‑date if you keep the service current | • Requires hosting a serverless function or VM<br>• Adds network latency / offline dependency |\n",
        "| **2 · Port the minimal math to Dart**                        | Skyfield ultimately solves *solar ecliptic longitude = 270°.* You can implement the same Meeus algorithms (or use an existing Dart astronomy library). | • Pure Dart (no backend)<br>• Works offline, 100 % client‑side                          | • You must write / port \\~150 lines of math or adopt a 3rd‑party lib                          |\n",
        "| **3 · Use a ready‑made Dart astronomy package**              | `package:astro` and `package:astronomy` exist on pub.dev; both compute solar positions.                                                                | • One‑liner API similar to Skyfield                                                     | • Smaller community than Skyfield; verify accuracy                                            |\n"
      ],
      "metadata": {
        "id": "4lXBo_BfKHJO"
      }
    },
    {
      "cell_type": "code",
      "source": [
        "!pip install skyfield --quiet\n",
        "\n",
        "from skyfield.api import load\n",
        "from skyfield import almanac\n",
        "from datetime import timezone\n",
        "\n",
        "ts = load.timescale()\n",
        "eph = load('de440s.bsp')\n",
        "\n",
        "def december_solstice(year):\n",
        "    t0 = ts.utc(year, 12, 19)\n",
        "    t1 = ts.utc(year, 12, 24)\n",
        "    times, events = almanac.find_discrete(t0, t1, almanac.seasons(eph))\n",
        "    for t, e in zip(times, events):\n",
        "        if e == 3:  # 3 means December solstice\n",
        "            return t.utc_datetime().replace(tzinfo=timezone.utc)\n",
        "\n",
        "print(december_solstice(2015))\n"
      ],
      "metadata": {
        "id": "R7IqkDvIBTYz",
        "outputId": "e7752428-7bc9-4ced-a923-0bec954268c5",
        "colab": {
          "base_uri": "https://localhost:8080/"
        }
      },
      "execution_count": 16,
      "outputs": [
        {
          "output_type": "stream",
          "name": "stdout",
          "text": [
            "2015-12-22 04:47:56.661933+00:00\n"
          ]
        }
      ]
    },
    {
      "cell_type": "code",
      "source": [
        "from datetime import date\n",
        "\n",
        "def get_solstice_cutoff(year: int) -> tuple:\n",
        "    \"\"\"\n",
        "    Return the correct solstice cutoff for a given year.\n",
        "    Defaults to Dec 21 unless listed as a Dec 22 solstice year.\n",
        "    \"\"\"\n",
        "    solstice_22_years = {\n",
        "        2023, 2027, 2031, 2034, 2038, 2042, 2046, 2049,\n",
        "        2053, 2057, 2061, 2064, 2068, 2072, 2076\n",
        "    }\n",
        "\n",
        "    return (12, 22) if year in solstice_22_years else (12, 21)\n"
      ],
      "metadata": {
        "id": "vDEGKZPND0Un"
      },
      "execution_count": null,
      "outputs": []
    },
    {
      "cell_type": "markdown",
      "source": [
        "Lichun calendar"
      ],
      "metadata": {
        "id": "1sm72pboQ0_K"
      }
    },
    {
      "cell_type": "code",
      "source": [
        "# -*- coding: utf-8 -*-\n",
        "\"\"\"\n",
        "bazi_year_by_lichun.py\n",
        "Flip the Heavenly‑Stem year on LiChun (3 / 4 Feb) instead of Jan 1.\n",
        "Requires: pip install astronomy      (pure‑Python, tiny)\n",
        "\"\"\"\n",
        "\n",
        "from datetime import date, timezone, timedelta\n",
        "from astronomy import Astronomy, Body, Direction\n",
        "\n",
        "# -------------------------------------------------------------------\n",
        "# 1.  Astronomical utility: Find the Lìchūn date (local, Asia/Phnom_Penh)\n",
        "\n",
        "_ASTRO = Astronomy()\n",
        "_TZ_PP = timezone(timedelta(hours=7))    # UTC+07\n",
        "\n",
        "def lichun_date(year: int) -> date:\n",
        "    \"\"\"\n",
        "    Return the civil date (Asia/Phnom_Penh) of LiChun for `year`.\n",
        "    \"\"\"\n",
        "    # Search when solar true longitude = 315° — the “Start of Spring”\n",
        "    # Start from 2 Feb, search forward\n",
        "    event = _ASTRO.search_hour_angle(\n",
        "        body=Body.sun,\n",
        "        longitude=315.0,\n",
        "        start_date=date(year, 2, 2),\n",
        "        direction=Direction.next,\n",
        "    )\n",
        "\n",
        "    local_dt = event.instant.to_utc_datetime().astimezone(_TZ_PP)\n",
        "    return date(local_dt.year, local_dt.month, local_dt.day)   # drop time‑of‑day\n",
        "\n",
        "\n",
        "# -------------------------------------------------------------------\n",
        "# 2.  Heavenly‑Stem helpers\n",
        "\n",
        "STEMS = ['甲','乙','丙','丁','戊','己','庚','辛','壬','癸']\n",
        "REF_YEAR = 1984                 # 1984 = 甲\n",
        "\n",
        "def heavenly_stem(year: int) -> str:\n",
        "    \"\"\"\n",
        "    Heavenly Stem (single Han character) for a Gregorian YEAR.\n",
        "    \"\"\"\n",
        "    return STEMS[(year - REF_YEAR) % 10]\n",
        "\n",
        "\n",
        "# -------------------------------------------------------------------\n",
        "# 3.  Public API: stem for any Gregorian date, LiChun rollover\n",
        "\n",
        "def heavenly_stem_for_date(greg_date: date) -> str:\n",
        "    \"\"\"\n",
        "    Return Heavenly Stem for the BaZi 'year pillar' containing `greg_date`,\n",
        "    where the BaZi year starts on LiChun (3 / 4 Feb).\n",
        "    \"\"\"\n",
        "    # Find LiChun for the *Gregorian* year\n",
        "    lc = lichun_date(greg_date.year)\n",
        "\n",
        "    # If the date is before LiChun, it still belongs to the previous stem‑year\n",
        "    bazi_year = greg_date.year if greg_date >= lc else greg_date.year - 1\n",
        "    return heavenly_stem(bazi_year)\n",
        "\n",
        "\n",
        "# ---------------------- DEMO ---------------------------------------\n",
        "if __name__ == \"__main__\":\n",
        "    tests = [\n",
        "        date(2025,  2,  2),\n",
        "        date(2025,  2,  4),\n",
        "        date(2026,  2,  3),\n",
        "        date(2026,  2,  4),\n",
        "        date(2026,  7,  1),\n",
        "    ]\n",
        "    for d in tests:\n",
        "        print(f\"{d}  →  {heavenly_stem_for_date(d)} 年\")\n"
      ],
      "metadata": {
        "id": "Q6vRHSx2QzQC"
      },
      "execution_count": null,
      "outputs": []
    }
  ]
}