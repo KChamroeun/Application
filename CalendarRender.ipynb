{
  "nbformat": 4,
  "nbformat_minor": 0,
  "metadata": {
    "colab": {
      "provenance": [],
      "authorship_tag": "ABX9TyOvJc4Vc6llgh8gAzx3/KTd",
      "include_colab_link": true
    },
    "kernelspec": {
      "name": "python3",
      "display_name": "Python 3"
    },
    "language_info": {
      "name": "python"
    }
  },
  "cells": [
    {
      "cell_type": "markdown",
      "metadata": {
        "id": "view-in-github",
        "colab_type": "text"
      },
      "source": [
        "<a href=\"https://colab.research.google.com/github/KChamroeun/Application/blob/main/CalendarRender.ipynb\" target=\"_parent\"><img src=\"https://colab.research.google.com/assets/colab-badge.svg\" alt=\"Open In Colab\"/></a>"
      ]
    },
    {
      "cell_type": "code",
      "execution_count": null,
      "metadata": {
        "colab": {
          "base_uri": "https://localhost:8080/"
        },
        "id": "KCNcud_9zzbu",
        "outputId": "b33ea48e-4e3c-4727-f977-d3042769bf9a"
      },
      "outputs": [
        {
          "output_type": "stream",
          "name": "stdout",
          "text": [
            "{'Jia': '甲 ឈើ+', 'Yi': '乙 ឈើ-', 'Bing': '丙 ភ្លើង+', 'Ding': '丁 ភ្លើង-', 'Wu': '戊 ដី+', 'Ji': '己 ដី-', 'Geng': '庚 មាស+', 'Xin': '辛 មាស-', 'Ren': '壬 ទឹក+', 'Gui': '癸 ទឹក-'}\n"
          ]
        }
      ],
      "source": [
        "\n",
        "heavenly_stem_characters = {\n",
        "    \"Jia\": \"甲 ឈើ+\",\n",
        "    \"Yi\": \"乙 ឈើ-\",\n",
        "    \"Bing\": \"丙 ភ្លើង+\",\n",
        "    \"Ding\": \"丁 ភ្លើង-\",\n",
        "    \"Wu\": \"戊 ដី+\",\n",
        "    \"Ji\": \"己 ដី-\",\n",
        "    \"Geng\": \"庚 មាស+\",\n",
        "    \"Xin\": \"辛 មាស-\",\n",
        "    \"Ren\": \"壬 ទឹក+\",\n",
        "    \"Gui\": \"癸 ទឹក-\"\n",
        "      }\n",
        "heavenly_stem_characters_for_year = {\n",
        "    0: \"庚 Geng មាស+\",\n",
        "    1: \"辛 Xin 庚 មាស-\",\n",
        "    2: \"壬 Ren ទឹក+\",\n",
        "    3: \"癸 Gui ទឹក-\",\n",
        "    4: \"甲 Jia ឈើ+\",\n",
        "    5: \"乙 Yi ឈើ-\",\n",
        "    6: \"丙 Bing ភ្លើង+\",\n",
        "    7: \"丁 Ding ភ្លើង-\",\n",
        "    8: \"戊 Wu ដី+\",\n",
        "    9: \"己 Ji ដី-\"\n",
        "}\n",
        "\n",
        "print(heavenly_stem_characters_for_year)\n",
        "\n",
        "print(heavenly_stem_characters)\n",
        "\n",
        "\n",
        "\n"
      ]
    },
    {
      "cell_type": "markdown",
      "source": [
        "Render Calendar based on Lichun and Winter solstice"
      ],
      "metadata": {
        "id": "N4uNFRQMAAcZ"
      }
    },
    {
      "cell_type": "code",
      "source": [
        "!pip install astronomy\n",
        "!pip install Astronomy"
      ],
      "metadata": {
        "id": "r-5G4fGPAN5I",
        "outputId": "fd02216c-7fd1-4768-d1b1-baa925bf5b2f",
        "colab": {
          "base_uri": "https://localhost:8080/"
        }
      },
      "execution_count": 5,
      "outputs": [
        {
          "output_type": "stream",
          "name": "stdout",
          "text": [
            "Requirement already satisfied: astronomy in /usr/local/lib/python3.11/dist-packages (0.0.1)\n",
            "Requirement already satisfied: Astronomy in /usr/local/lib/python3.11/dist-packages (0.0.1)\n"
          ]
        }
      ]
    },
    {
      "cell_type": "code",
      "source": [
        "# bazi_pillars.py  ──\n",
        "\n",
        "from datetime import datetime, date, timezone, timedelta\n",
        "from dataclasses import dataclass\n",
        "from abc import ABC, abstractmethod\n",
        "from astronomy import Astronomy, Body, Direction\n",
        "\n",
        "# ----------------- constants -----------------\n",
        "STEMS   = '甲乙丙丁戊己庚辛壬癸'\n",
        "BRANCH  = '子丑寅卯辰巳午未申酉戌亥'\n",
        "STEM_GROUP = {c: i//2 for i, c in enumerate(STEMS)}     # 甲/己→0 …\n",
        "\n",
        "# Month‑stem lookup rows (5) × cols (12)\n",
        "MONTH_STEMS = [\n",
        "    list('丙丁戊己庚辛壬癸甲乙丙丁'),\n",
        "    list('戊己庚辛壬癸甲乙丙丁戊己'),\n",
        "    list('庚辛壬癸甲乙丙丁戊己庚辛'),\n",
        "    list('壬癸甲乙丙丁戊己庚辛壬癸'),\n",
        "    list('甲乙丙丁戊己庚辛壬癸甲乙'),\n",
        "]\n",
        "\n",
        "EPOCH_JZ = date(1984, 2, 2)                       # known 甲子 day\n",
        "\n",
        "ASTRO = Astronomy()\n",
        "TZ_UTC7 = timezone(timedelta(hours=7))            # Phnom Penh\n",
        "\n",
        "# -------------- helpers -----------------\n",
        "def julian_day(g: date) -> int:\n",
        "    a = (14 - g.month)//12\n",
        "    y = g.year + 4800 - a\n",
        "    m = g.month + 12*a - 3\n",
        "    return g.day + (153*m+2)//5 + 365*y + y//4 - y//100 + y//400 - 32045\n",
        "\n",
        "def year_stem_branch(year:int) -> tuple[str,str]:\n",
        "    stem = STEMS[(year - 1984) % 10]\n",
        "    branch=BRANCH[(year - 1984) % 12]\n",
        "    return stem, branch\n",
        "\n",
        "def month_stem_branch(year_stem:str, solar_month:int) -> tuple[str,str]:\n",
        "    stem = MONTH_STEMS[STEM_GROUP[year_stem]][solar_month-1]\n",
        "    branch = BRANCH[(solar_month+1) % 12]   # Month 1 = 寅\n",
        "    return stem, branch\n",
        "\n",
        "def day_stem_branch(d: date) -> tuple[str,str]:\n",
        "    delta = (julian_day(d) - julian_day(EPOCH_JZ)) % 60\n",
        "    return STEMS[delta % 10], BRANCH[delta % 12]\n",
        "\n",
        "def hour_branch(dt_local: datetime) -> str:\n",
        "    h = dt_local.hour\n",
        "    return BRANCH[((h+1)%24)//2]\n",
        "\n",
        "def hour_stem(day_stem:str, h_branch:str) -> str:\n",
        "    d_idx = STEMS.index(day_stem)\n",
        "    b_idx = BRANCH.index(h_branch)\n",
        "    return STEMS[(2*b_idx + d_idx) % 10]\n",
        "\n",
        "# -------------- Strategy Pattern --------------\n",
        "class Boundary(ABC):\n",
        "    @abstractmethod\n",
        "    def pivot(self, year:int) -> date: ...\n",
        "    def bazi_year(self, d: date) -> int:\n",
        "        return d.year if d >= self.pivot(d.year) else d.year-1\n",
        "    def solar_month(self,d:date)->int:\n",
        "        ref=self.pivot(d.year)\n",
        "        if d<ref: ref=self.pivot(d.year-1)\n",
        "        return 1+(d-ref).days//30            # rough but sufficient for pillar math\n",
        "\n",
        "class LiChunBoundary(Boundary):\n",
        "    name=\"LiChun\"\n",
        "    def pivot(self,year):\n",
        "        evt=ASTRO.search_hour_angle(Body.sun,315,date(year,2,2),Direction.next)\n",
        "        return evt.instant.to_utc_datetime().astimezone(TZ_UTC7).date()\n",
        "\n",
        "class SolsticeBoundary(Boundary):\n",
        "    name=\"Solstice\"\n",
        "    def pivot(self,year):\n",
        "        evt=ASTRO.search_hour_angle(Body.sun,270,date(year,12,19),Direction.next)\n",
        "        return evt.instant.to_utc_datetime().astimezone(TZ_UTC7).date()\n",
        "\n",
        "BOUNDARY_MAP={\"LiChun\":LiChunBoundary(),\"Solstice\":SolsticeBoundary()}\n",
        "\n",
        "# -------------- Public API -----------------\n",
        "@dataclass\n",
        "class Pillars:\n",
        "    year:str; month:str; day:str; hour:str\n",
        "\n",
        "def four_pillars(dt_local: datetime, mode:str=\"LiChun\")->Pillars:\n",
        "    strat=BOUNDARY_MAP[mode]\n",
        "    byear = strat.bazi_year(dt_local.date())\n",
        "    ystem,ybranch = year_stem_branch(byear)\n",
        "\n",
        "    smonth = strat.solar_month(dt_local.date())\n",
        "    mstem,mbranch = month_stem_branch(ystem,smonth)\n",
        "\n",
        "    dstem,dbranch = day_stem_branch(dt_local.date())\n",
        "\n",
        "    hbranch = hour_branch(dt_local)\n",
        "    hstem   = hour_stem(dstem,hbranch)\n",
        "\n",
        "    return Pillars(\n",
        "        year = f\"{ystem}{ybranch}\",\n",
        "        month= f\"{mstem}{mbranch}\",\n",
        "        day  = f\"{dstem}{dbranch}\",\n",
        "        hour = f\"{hstem}{hbranch}\",\n",
        "    )\n",
        "\n",
        "# ---------------- demo ----------------------\n",
        "if __name__ == \"__main__\":\n",
        "    born = datetime(2026,4,5,10,43,tzinfo=TZ_UTC7)\n",
        "    for mode in (\"LiChun\",\"Solstice\"):\n",
        "        p = four_pillars(born,mode)\n",
        "        print(mode, \"→\", p)\n"
      ],
      "metadata": {
        "id": "ud5yv53W7dN-",
        "outputId": "78903a66-b67a-4217-8cdc-172b13d4064b",
        "colab": {
          "base_uri": "https://localhost:8080/",
          "height": 384
        }
      },
      "execution_count": 6,
      "outputs": [
        {
          "output_type": "error",
          "ename": "ImportError",
          "evalue": "cannot import name 'Astronomy' from 'astronomy' (/usr/local/lib/python3.11/dist-packages/astronomy/__init__.py)",
          "traceback": [
            "\u001b[0;31m---------------------------------------------------------------------------\u001b[0m",
            "\u001b[0;31mImportError\u001b[0m                               Traceback (most recent call last)",
            "\u001b[0;32m/tmp/ipython-input-6-2458532851.py\u001b[0m in \u001b[0;36m<cell line: 0>\u001b[0;34m()\u001b[0m\n\u001b[1;32m      4\u001b[0m \u001b[0;32mfrom\u001b[0m \u001b[0mdataclasses\u001b[0m \u001b[0;32mimport\u001b[0m \u001b[0mdataclass\u001b[0m\u001b[0;34m\u001b[0m\u001b[0;34m\u001b[0m\u001b[0m\n\u001b[1;32m      5\u001b[0m \u001b[0;32mfrom\u001b[0m \u001b[0mabc\u001b[0m \u001b[0;32mimport\u001b[0m \u001b[0mABC\u001b[0m\u001b[0;34m,\u001b[0m \u001b[0mabstractmethod\u001b[0m\u001b[0;34m\u001b[0m\u001b[0;34m\u001b[0m\u001b[0m\n\u001b[0;32m----> 6\u001b[0;31m \u001b[0;32mfrom\u001b[0m \u001b[0mastronomy\u001b[0m \u001b[0;32mimport\u001b[0m \u001b[0mAstronomy\u001b[0m\u001b[0;34m,\u001b[0m \u001b[0mBody\u001b[0m\u001b[0;34m,\u001b[0m \u001b[0mDirection\u001b[0m\u001b[0;34m\u001b[0m\u001b[0;34m\u001b[0m\u001b[0m\n\u001b[0m\u001b[1;32m      7\u001b[0m \u001b[0;34m\u001b[0m\u001b[0m\n\u001b[1;32m      8\u001b[0m \u001b[0;31m# ----------------- constants -----------------\u001b[0m\u001b[0;34m\u001b[0m\u001b[0;34m\u001b[0m\u001b[0m\n",
            "\u001b[0;31mImportError\u001b[0m: cannot import name 'Astronomy' from 'astronomy' (/usr/local/lib/python3.11/dist-packages/astronomy/__init__.py)",
            "",
            "\u001b[0;31m---------------------------------------------------------------------------\u001b[0;32m\nNOTE: If your import is failing due to a missing package, you can\nmanually install dependencies using either !pip or !apt.\n\nTo view examples of installing some common dependencies, click the\n\"Open Examples\" button below.\n\u001b[0;31m---------------------------------------------------------------------------\u001b[0m\n"
          ],
          "errorDetails": {
            "actions": [
              {
                "action": "open_url",
                "actionText": "Open Examples",
                "url": "/notebooks/snippets/importing_libraries.ipynb"
              }
            ]
          }
        }
      ]
    },
    {
      "cell_type": "markdown",
      "source": [
        "Render Calendar"
      ],
      "metadata": {
        "id": "ujKXisk__oUn"
      }
    },
    {
      "cell_type": "code",
      "source": [
        "import calendar\n",
        "\n",
        "heavenly_stems = [\"Jia\", \"Yi\", \"Bing\", \"Ding\", \"Wu\", \"Ji\", \"Geng\", \"Xin\", \"Ren\", \"Gui\"]\n",
        "earthly_branches = [\"Zi\", \"Chou\", \"Yin\", \"Mao\", \"Chen\", \"Si\", \"Wu\", \"Wei\", \"Shen\", \"You\", \"Xu\", \"Hai\"]\n",
        "solar_terms_2025 = {  # Example - you'd need the actual dates\n",
        "    \"Start of Spring\": \"2025-02-03\",\n",
        "    \"Rain Water\": \"2025-02-18\",\n",
        "    # ... and so on for all 24 solar terms\n",
        "}\n",
        "\n",
        "def get_day_pillar(year, month, day):\n",
        "    # This is a simplified placeholder - the actual calculation is complex\n",
        "    # You'd need a reference date and the 60 Jia Zi cycle logic\n",
        "    index = (year + month + day) % 60\n",
        "    heavenly_stem_index = index % 10\n",
        "    earthly_branch_index = index % 12\n",
        "    return heavenly_stems[heavenly_stem_index], earthly_branches[earthly_branch_index]\n",
        "\n",
        "def get_month_pillar(year_heavenly_stem, month):\n",
        "    # This is also a simplified placeholder - the logic is based on year stem\n",
        "    # and the fixed Earthly Branch for the month\n",
        "    year_stem_index = heavenly_stems.index(year_heavenly_stem)\n",
        "    month_heavenly_stems = [\"Bing\", \"Ding\", \"Wu\", \"Ji\", \"Geng\", \"Xin\", \"Ren\", \"Gui\", \"Jia\", \"Yi\", \"Bing\", \"Ding\"] # Example sequence\n",
        "    return month_heavenly_stems[(year_stem_index % 5) * 2 + (month - 1) % 12], earthly_branches[month - 1] # Assuming month starts from Yin\n",
        "\n",
        "def render_bazi_calendar(year):\n",
        "    cal = calendar.TextCalendar()\n",
        "    year_stem = get_heavenly_stem_for_year(year) # Assuming you have this function\n",
        "\n",
        "    for month in range(1, 13): # Looping through months (though Bazi has a different lunar calendar start)\n",
        "        print(f\"\\n----- Month {month} -----\")\n",
        "        month_stem, month_branch = get_month_pillar(year_stem, month)\n",
        "        print(f\"Month Pillar: {month_stem} {month_branch}\")\n",
        "        print(cal.formatmonth(year, month))\n",
        "        for day in range(1, calendar.monthrange(year, month)[1] + 1):\n",
        "            day_stem, day_branch = get_day_pillar(year, month, day)\n",
        "            date_str = f\"{year}-{month:02d}-{day:02d}\"\n",
        "            solar_term = \"\"\n",
        "            for term, date in solar_terms_2025.items(): # This needs to be for the correct year\n",
        "                if date == date_str:\n",
        "                    solar_term = f\"({term})\"\n",
        "                    break\n",
        "            print(f\"{day}: {day_stem} {day_branch} {solar_term}\")\n",
        "\n",
        "# Example call (will not be fully accurate without the complex logic)\n",
        "render_bazi_calendar(2025)"
      ],
      "metadata": {
        "id": "UKoIJLR6EErI"
      },
      "execution_count": null,
      "outputs": []
    },
    {
      "cell_type": "markdown",
      "source": [
        "Winter Solstic on 21 or 22nd using skyfield library"
      ],
      "metadata": {
        "id": "y8IgGLNQ_wCR"
      }
    },
    {
      "cell_type": "code",
      "source": [
        "!pip install skyfield\n",
        "\n",
        "from skyfield.api import load\n",
        "from skyfield import almanac\n",
        "from datetime import timezone\n",
        "\n",
        "ts = load.timescale()\n",
        "eph = load('de440s.bsp')\n",
        "\n",
        "def december_solstice(year):\n",
        "    t0 = ts.utc(year, 12, 19)\n",
        "    t1 = ts.utc(year, 12, 24)\n",
        "    times, events = almanac.find_discrete(t0, t1, almanac.seasons(eph))\n",
        "    for t, e in zip(times, events):\n",
        "        if e == 3:  # 3 means December solstice\n",
        "            return t.utc_datetime().replace(tzinfo=timezone.utc)\n",
        "\n",
        "print(december_solstice(2023))\n"
      ],
      "metadata": {
        "id": "hbsjwZVt_ep7"
      },
      "execution_count": null,
      "outputs": []
    }
  ]
}