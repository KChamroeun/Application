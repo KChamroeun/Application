{
  "nbformat": 4,
  "nbformat_minor": 0,
  "metadata": {
    "colab": {
      "provenance": [],
      "authorship_tag": "ABX9TyOqEO0/ggLQR7Vfu6wR32u3",
      "include_colab_link": true
    },
    "kernelspec": {
      "name": "python3",
      "display_name": "Python 3"
    },
    "language_info": {
      "name": "python"
    }
  },
  "cells": [
    {
      "cell_type": "markdown",
      "metadata": {
        "id": "view-in-github",
        "colab_type": "text"
      },
      "source": [
        "<a href=\"https://colab.research.google.com/github/KChamroeun/Application/blob/main/CalendarRender.ipynb\" target=\"_parent\"><img src=\"https://colab.research.google.com/assets/colab-badge.svg\" alt=\"Open In Colab\"/></a>"
      ]
    },
    {
      "cell_type": "code",
      "execution_count": null,
      "metadata": {
        "colab": {
          "base_uri": "https://localhost:8080/"
        },
        "id": "KCNcud_9zzbu",
        "outputId": "b33ea48e-4e3c-4727-f977-d3042769bf9a"
      },
      "outputs": [
        {
          "output_type": "stream",
          "name": "stdout",
          "text": [
            "{'Jia': '甲 ឈើ+', 'Yi': '乙 ឈើ-', 'Bing': '丙 ភ្លើង+', 'Ding': '丁 ភ្លើង-', 'Wu': '戊 ដី+', 'Ji': '己 ដី-', 'Geng': '庚 មាស+', 'Xin': '辛 មាស-', 'Ren': '壬 ទឹក+', 'Gui': '癸 ទឹក-'}\n"
          ]
        }
      ],
      "source": [
        "\n",
        "heavenly_stem_characters = {\n",
        "    \"Jia\": \"甲 ឈើ+\",\n",
        "    \"Yi\": \"乙 ឈើ-\",\n",
        "    \"Bing\": \"丙 ភ្លើង+\",\n",
        "    \"Ding\": \"丁 ភ្លើង-\",\n",
        "    \"Wu\": \"戊 ដី+\",\n",
        "    \"Ji\": \"己 ដី-\",\n",
        "    \"Geng\": \"庚 មាស+\",\n",
        "    \"Xin\": \"辛 មាស-\",\n",
        "    \"Ren\": \"壬 ទឹក+\",\n",
        "    \"Gui\": \"癸 ទឹក-\"\n",
        "      }\n",
        "heavenly_stem_characters_for_year = {\n",
        "    0: \"庚 Geng មាស+\",\n",
        "    1: \"辛 Xin 庚 មាស-\",\n",
        "    2: \"壬 Ren ទឹក+\",\n",
        "    3: \"癸 Gui ទឹក-\",\n",
        "    4: \"甲 Jia ឈើ+\",\n",
        "    5: \"乙 Yi ឈើ-\",\n",
        "    6: \"丙 Bing ភ្លើង+\",\n",
        "    7: \"丁 Ding ភ្លើង-\",\n",
        "    8: \"戊 Wu ដី+\",\n",
        "    9: \"己 Ji ដី-\"\n",
        "}\n",
        "\n",
        "print(heavenly_stem_characters_for_year)\n",
        "\n",
        "print(heavenly_stem_characters)\n",
        "\n",
        "\n",
        "\n"
      ]
    },
    {
      "cell_type": "markdown",
      "source": [
        "Render Calendar based on Lichun and Winter solstice"
      ],
      "metadata": {
        "id": "N4uNFRQMAAcZ"
      }
    },
    {
      "cell_type": "code",
      "source": [
        "!pip install astronomy\n",
        "!pip install Astronomy"
      ],
      "metadata": {
        "colab": {
          "base_uri": "https://localhost:8080/"
        },
        "id": "r-5G4fGPAN5I",
        "outputId": "b96d2182-eb40-4404-f44c-24e121fcfc18"
      },
      "execution_count": null,
      "outputs": [
        {
          "output_type": "stream",
          "name": "stdout",
          "text": [
            "Requirement already satisfied: astronomy in /usr/local/lib/python3.11/dist-packages (0.0.1)\n",
            "Requirement already satisfied: Astronomy in /usr/local/lib/python3.11/dist-packages (0.0.1)\n"
          ]
        }
      ]
    },
    {
      "cell_type": "markdown",
      "source": [
        "Winter Solstic on 21 or 22nd using skyfield library"
      ],
      "metadata": {
        "id": "y8IgGLNQ_wCR"
      }
    },
    {
      "cell_type": "markdown",
      "source": [
        "| Library    | Accuracy   | Size / Setup   | Best for…                  |\n",
        "| ---------- | ---------- | -------------- | -------------------------- |\n",
        "| `astral`   | ±1 min     | tiny, no files | Quick calendar apps        |\n",
        "| `skyfield` | ±ms        | 6 MB kernel    | Precision, long time spans |\n",
        "| `pyephem`  | deprecated | —              | Use Skyfield instead       |\n"
      ],
      "metadata": {
        "id": "wzqjinBTJ2OG"
      }
    },
    {
      "cell_type": "markdown",
      "source": [],
      "metadata": {
        "id": "va2vemJxKmUu"
      }
    },
    {
      "cell_type": "markdown",
      "source": [
        "“Skyfield” is Python‑only — but you still have good options in Flutter / Dart\n",
        "\n",
        "\n",
        "| Approach                                                     | How it works                                                                                                                                           | Pros                                                                                    | Cons                                                                                          |\n",
        "| ------------------------------------------------------------ | ------------------------------------------------------------------------------------------------------------------------------------------------------ | --------------------------------------------------------------------------------------- | --------------------------------------------------------------------------------------------- |\n",
        "| **1 · Call a small Python micro‑service that runs Skyfield** | Your Flutter app makes HTTPS requests to a FastAPI / Flask / Cloud Function that returns the solstice day (21 or 22 Dec) for a given year.             | • Zero astronomical math to port<br>• Always up‑to‑date if you keep the service current | • Requires hosting a serverless function or VM<br>• Adds network latency / offline dependency |\n",
        "| **2 · Port the minimal math to Dart**                        | Skyfield ultimately solves *solar ecliptic longitude = 270°.* You can implement the same Meeus algorithms (or use an existing Dart astronomy library). | • Pure Dart (no backend)<br>• Works offline, 100 % client‑side                          | • You must write / port \\~150 lines of math or adopt a 3rd‑party lib                          |\n",
        "| **3 · Use a ready‑made Dart astronomy package**              | `package:astro` and `package:astronomy` exist on pub.dev; both compute solar positions.                                                                | • One‑liner API similar to Skyfield                                                     | • Smaller community than Skyfield; verify accuracy                                            |\n"
      ],
      "metadata": {
        "id": "4lXBo_BfKHJO"
      }
    },
    {
      "cell_type": "code",
      "source": [
        "!pip install skyfield --quiet\n",
        "!pip install Astronomy --quiet\n",
        "\n",
        "from skyfield.api import load\n",
        "from skyfield import almanac\n",
        "from datetime import timezone\n",
        "\n",
        "ts = load.timescale()\n",
        "eph = load('de440s.bsp')\n",
        "\n",
        "def december_solstice(year):\n",
        "    t0 = ts.utc(year, 12, 19)\n",
        "    t1 = ts.utc(year, 12, 24)\n",
        "    times, events = almanac.find_discrete(t0, t1, almanac.seasons(eph))\n",
        "    for t, e in zip(times, events):\n",
        "        if e == 3:  # 3 means December solstice\n",
        "            return t.utc_datetime().replace(tzinfo=timezone.utc)\n",
        "\n",
        "print(december_solstice(2015))\n"
      ],
      "metadata": {
        "colab": {
          "base_uri": "https://localhost:8080/"
        },
        "id": "R7IqkDvIBTYz",
        "outputId": "e7752428-7bc9-4ced-a923-0bec954268c5"
      },
      "execution_count": null,
      "outputs": [
        {
          "output_type": "stream",
          "name": "stdout",
          "text": [
            "2015-12-22 04:47:56.661933+00:00\n"
          ]
        }
      ]
    },
    {
      "cell_type": "code",
      "source": [
        "from datetime import date\n",
        "\n",
        "def get_solstice_cutoff(year: int) -> tuple:\n",
        "    \"\"\"\n",
        "    Return the correct solstice cutoff for a given year.\n",
        "    Defaults to Dec 21 unless listed as a Dec 22 solstice year.\n",
        "    \"\"\"\n",
        "    solstice_22_years = {\n",
        "        2023, 2027, 2031, 2034, 2038, 2042, 2046, 2049,\n",
        "        2053, 2057, 2061, 2064, 2068, 2072, 2076\n",
        "    }\n",
        "\n",
        "    return (12, 22) if year in solstice_22_years else (12, 21)\n"
      ],
      "metadata": {
        "id": "vDEGKZPND0Un"
      },
      "execution_count": null,
      "outputs": []
    },
    {
      "cell_type": "markdown",
      "source": [
        "| Term                | Solar Longitude | Typical Date | Skyfield Match |\n",
        "| ------------------- | --------------- | ------------ | -------------- |\n",
        "| **Lìchūn (立春)**     | 315°            | \\~Feb 3–4    | `lon ≈ 315°`   |\n",
        "| **Winter Solstice** | 270°            | \\~Dec 21–22  | `lon ≈ 270°`   |\n"
      ],
      "metadata": {
        "id": "ACpVzebuUPLj"
      }
    },
    {
      "cell_type": "markdown",
      "source": [
        "Lichun calendar"
      ],
      "metadata": {
        "id": "1sm72pboQ0_K"
      }
    },
    {
      "cell_type": "code",
      "source": [
        "!pip install skyfield --quit\n",
        "from skyfield.api import load\n",
        "from datetime import timedelta\n",
        "\n",
        "# Load ephemeris data from JPL\n",
        "eph = load('de421.bsp')\n",
        "ts = load.timescale()\n",
        "earth = eph['earth']\n",
        "sun = eph['sun']\n",
        "\n",
        "def get_solar_longitude(t):\n",
        "    astrometric = earth.at(t).observe(sun).apparent()\n",
        "    _, lon, _ = astrometric.ecliptic_latlon()\n",
        "    return lon.degrees % 360\n",
        "\n",
        "def find_lichun(year):\n",
        "    t0 = ts.utc(year, 2, 2)\n",
        "    t1 = ts.utc(year, 2, 5)\n",
        "\n",
        "    t = t0\n",
        "    step = timedelta(minutes=10)\n",
        "\n",
        "    while t.utc_datetime() < t1.utc_datetime():\n",
        "        lon = get_solar_longitude(t)\n",
        "        if 314.9 <= lon <= 315.1:\n",
        "            return t.utc_datetime()\n",
        "        t = ts.utc(t.utc_datetime() + step)\n",
        "\n",
        "    return None\n",
        "\n",
        "# Example: Get Lichun for 2025\n",
        "lichun_2025 = find_lichun(2025)\n",
        "print(\"Lìchūn 2025:\", lichun_2025)\n"
      ],
      "metadata": {
        "id": "Q6vRHSx2QzQC"
      },
      "execution_count": null,
      "outputs": []
    },
    {
      "cell_type": "markdown",
      "source": [
        "Winter Solstice"
      ],
      "metadata": {
        "id": "1qS45-I9UEOl"
      }
    },
    {
      "cell_type": "code",
      "source": [
        "from skyfield.api import load\n",
        "from datetime import timedelta\n",
        "\n",
        "# Load ephemeris data\n",
        "eph = load('de421.bsp')\n",
        "ts = load.timescale()\n",
        "\n",
        "earth = eph['earth']\n",
        "sun = eph['sun']\n",
        "\n",
        "# Get solar ecliptic longitude in degrees\n",
        "def get_solar_longitude(t):\n",
        "    astrometric = earth.at(t).observe(sun).apparent()\n",
        "    _, lon, _ = astrometric.ecliptic_latlon()\n",
        "    return lon.degrees % 360\n",
        "\n",
        "# Find Winter Solstice (when longitude is 270°)\n",
        "def find_winter_solstice(year):\n",
        "    t0 = ts.utc(year, 12, 20)\n",
        "    t1 = ts.utc(year, 12, 23)\n",
        "\n",
        "    t = t0\n",
        "    step = timedelta(minutes=10)\n",
        "\n",
        "    while t.utc_datetime() < t1.utc_datetime():\n",
        "        lon = get_solar_longitude(t)\n",
        "        if 269.9 <= lon <= 270.1:\n",
        "            return t.utc_datetime()\n",
        "        t = ts.utc(t.utc_datetime() + step)\n",
        "\n",
        "    return None\n",
        "\n",
        "# Example usage\n",
        "winter_solstice_2025 = find_winter_solstice(2025)\n",
        "print(\"Winter Solstice 2025:\", winter_solstice_2025)\n"
      ],
      "metadata": {
        "id": "xZtU1hzRUG4z"
      },
      "execution_count": null,
      "outputs": []
    },
    {
      "cell_type": "markdown",
      "source": [
        "“Skyfield” is Python‑only — but you still have good options in Flutter / Dart\n",
        "\n",
        "| Approach                                                     | How it works                                                                                                                                           | Pros                                                                                    | Cons                                                                                          |\n",
        "| ------------------------------------------------------------ | ------------------------------------------------------------------------------------------------------------------------------------------------------ | --------------------------------------------------------------------------------------- | --------------------------------------------------------------------------------------------- |\n",
        "| **1 · Call a small Python micro‑service that runs Skyfield** | Your Flutter app makes HTTPS requests to a FastAPI / Flask / Cloud Function that returns the solstice day (21 or 22 Dec) for a given year.             | • Zero astronomical math to port<br>• Always up‑to‑date if you keep the service current | • Requires hosting a serverless function or VM<br>• Adds network latency / offline dependency |\n",
        "| **2 · Port the minimal math to Dart**                        | Skyfield ultimately solves *solar ecliptic longitude = 270°.* You can implement the same Meeus algorithms (or use an existing Dart astronomy library). | • Pure Dart (no backend)<br>• Works offline, 100 % client‑side                          | • You must write / port \\~150 lines of math or adopt a 3rd‑party lib                          |\n",
        "| **3 · Use a ready‑made Dart astronomy package**              | `package:astro` and `package:astronomy` exist on pub.dev; both compute solar positions.                                                                | • One‑liner API similar to Skyfield                                                     | • Smaller community than Skyfield; verify accuracy                                            |\n"
      ],
      "metadata": {
        "id": "i_kxfxVh2-6-"
      }
    }
  ]
}